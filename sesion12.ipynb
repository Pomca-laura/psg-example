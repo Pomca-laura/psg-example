{
 "cells": [
  {
   "cell_type": "code",
   "execution_count": 1,
   "metadata": {},
   "outputs": [
    {
     "name": "stdout",
     "output_type": "stream",
     "text": [
      "Inicio\n",
      "Cumple condición\n",
      "Fin\n"
     ]
    }
   ],
   "source": [
    "print (\"Inicio\")\n",
    "condicion = True\n",
    "if condicion:\n",
    "    # Bloque de código\n",
    "    print (\"Cumple condición\")\n",
    "print (\"Fin\")"
   ]
  },
  {
   "cell_type": "code",
   "execution_count": 2,
   "metadata": {},
   "outputs": [
    {
     "name": "stdout",
     "output_type": "stream",
     "text": [
      "Inicio\n",
      "El número es par\n",
      "Fin\n"
     ]
    }
   ],
   "source": [
    "print (\"Inicio\")\n",
    "numero = 4\n",
    "if numero % 2 == 0: # Si el módulo de 2 es 0\n",
    "    print (\"El número es par\")\n",
    "print (\"Fin\")"
   ]
  },
  {
   "cell_type": "code",
   "execution_count": 3,
   "metadata": {},
   "outputs": [
    {
     "name": "stdout",
     "output_type": "stream",
     "text": [
      "Cumple\n"
     ]
    }
   ],
   "source": [
    "if condicion:\n",
    "    print (\"Cumple\")\n",
    "else:\n",
    "    print (\"No cumple\")"
   ]
  },
  {
   "cell_type": "code",
   "execution_count": 4,
   "metadata": {},
   "outputs": [
    {
     "name": "stdout",
     "output_type": "stream",
     "text": [
      "Inicio\n",
      "No cumple condición\n",
      "Fin\n"
     ]
    }
   ],
   "source": [
    "print (\"Inicio\")\n",
    "condicion = False\n",
    "if condicion:\n",
    "    # Bloque de código\n",
    "    print (\"Cumple condición\")\n",
    "else:\n",
    "    # Bloque de código\n",
    "    print (\"No cumple condición\")\n",
    "print (\"Fin\")"
   ]
  },
  {
   "cell_type": "code",
   "execution_count": 5,
   "metadata": {},
   "outputs": [
    {
     "name": "stdout",
     "output_type": "stream",
     "text": [
      "Inicio\n",
      "El número es impar\n",
      "Fin\n"
     ]
    }
   ],
   "source": [
    "print (\"Inicio\")\n",
    "numero = 3\n",
    "if numero % 2 == 0: # Si el módulo de 2 es 0\n",
    "    print (\"El número es par\")\n",
    "else:\n",
    "    print (\"El número es impar\")\n",
    "print (\"Fin\")"
   ]
  },
  {
   "cell_type": "code",
   "execution_count": 6,
   "metadata": {},
   "outputs": [
    {
     "name": "stdout",
     "output_type": "stream",
     "text": [
      "Inicio Anidado\n",
      "Cumple condición 1\n",
      "No cumple condición 2\n",
      "Fin\n"
     ]
    }
   ],
   "source": [
    "print (\"Inicio Anidado\")\n",
    "condicion_1 = True\n",
    "condicion_2 = False\n",
    "if condicion_1:\n",
    "    print (\"Cumple condición 1\")\n",
    "    if condicion_2:\n",
    "        print (\"Cumple condición 2\")\n",
    "    else:\n",
    "        print (\"No cumple condición 2\")\n",
    "else:\n",
    "    print (\"No cumple condición 1\")\n",
    "print (\"Fin\")"
   ]
  },
  {
   "cell_type": "code",
   "execution_count": 7,
   "metadata": {},
   "outputs": [
    {
     "name": "stdout",
     "output_type": "stream",
     "text": [
      "Inicio Par, Impar o Cero\n",
      "El número es cero\n",
      "Fin\n"
     ]
    }
   ],
   "source": [
    "print (\"Inicio Par, Impar o Cero\")\n",
    "numero = 0  \n",
    "if numero > 0 or numero < 0:\n",
    "    if numero % 2 == 0: # Si el módulo de 2 es 0\n",
    "        print (\"El número es par\")\n",
    "    else:\n",
    "        print (\"El número es impar\")\n",
    "else:\n",
    "    print (\"El número es cero\")\n",
    "print (\"Fin\")"
   ]
  },
  {
   "cell_type": "code",
   "execution_count": 8,
   "metadata": {},
   "outputs": [
    {
     "name": "stdout",
     "output_type": "stream",
     "text": [
      "Inicio ELIF\n",
      "Cumple condición 2\n",
      "Fin\n"
     ]
    }
   ],
   "source": [
    "print (\"Inicio ELIF\")\n",
    "condicion_1 = False\n",
    "condicion_2 = True\n",
    "if condicion_1:\n",
    "    print (\"Cumple condición 1\")\n",
    "elif condicion_2:\n",
    "    print (\"Cumple condición 2\")\n",
    "else:\n",
    "    print (\"No cumple condición 1 ni 2\")\n",
    "print (\"Fin\")"
   ]
  },
  {
   "cell_type": "code",
   "execution_count": 9,
   "metadata": {},
   "outputs": [
    {
     "name": "stdout",
     "output_type": "stream",
     "text": [
      "Inicio Positivo, Negativo o Cero\n",
      "El número es negativo\n"
     ]
    }
   ],
   "source": [
    "print (\"Inicio Positivo, Negativo o Cero\")\n",
    "numero = -1\n",
    "if numero > 0:\n",
    "    print (\"El número es positivo\")\n",
    "elif numero < 0:\n",
    "    print (\"El número es negativo\")\n",
    "else:\n",
    "    print (\"El número es cero\")"
   ]
  },
  {
   "cell_type": "code",
   "execution_count": 10,
   "metadata": {},
   "outputs": [
    {
     "name": "stdout",
     "output_type": "stream",
     "text": [
      "Inicio Ternario\n",
      "Cumple\n",
      "Fin\n"
     ]
    }
   ],
   "source": [
    "print (\"Inicio Ternario\")\n",
    "condicion = True\n",
    "resultado = \"Cumple\" if condicion else \"No cumple\"\n",
    "print (resultado)\n",
    "print (\"Fin\")"
   ]
  },
  {
   "cell_type": "code",
   "execution_count": 11,
   "metadata": {},
   "outputs": [
    {
     "name": "stdout",
     "output_type": "stream",
     "text": [
      "Inicio Ternario Par, Impar\n",
      "El número es impar\n",
      "Fin\n"
     ]
    }
   ],
   "source": [
    "print (\"Inicio Ternario Par, Impar\")\n",
    "numero = 3\n",
    "resultado = \"El número es par\" if numero % 2 == 0 else \"El número es impar\"\n",
    "print (resultado)\n",
    "print (\"Fin\")"
   ]
  },
  {
   "cell_type": "code",
   "execution_count": 12,
   "metadata": {},
   "outputs": [
    {
     "name": "stdout",
     "output_type": "stream",
     "text": [
      "Truthiness Enteros\n"
     ]
    },
    {
     "ename": "ValueError",
     "evalue": "invalid literal for int() with base 10: ''",
     "output_type": "error",
     "traceback": [
      "\u001b[1;31m---------------------------------------------------------------------------\u001b[0m",
      "\u001b[1;31mValueError\u001b[0m                                Traceback (most recent call last)",
      "Cell \u001b[1;32mIn[12], line 2\u001b[0m\n\u001b[0;32m      1\u001b[0m \u001b[38;5;28mprint\u001b[39m (\u001b[38;5;124m\"\u001b[39m\u001b[38;5;124mTruthiness Enteros\u001b[39m\u001b[38;5;124m\"\u001b[39m)\n\u001b[1;32m----> 2\u001b[0m dividendo \u001b[38;5;241m=\u001b[39m \u001b[38;5;28;43mint\u001b[39;49m\u001b[43m(\u001b[49m\u001b[38;5;28;43minput\u001b[39;49m\u001b[43m(\u001b[49m\u001b[38;5;124;43m\"\u001b[39;49m\u001b[38;5;124;43mDividendo: \u001b[39;49m\u001b[38;5;124;43m\"\u001b[39;49m\u001b[43m)\u001b[49m\u001b[43m)\u001b[49m\n\u001b[0;32m      3\u001b[0m divisor \u001b[38;5;241m=\u001b[39m \u001b[38;5;28mint\u001b[39m(\u001b[38;5;28minput\u001b[39m(\u001b[38;5;124m\"\u001b[39m\u001b[38;5;124mDivisor: \u001b[39m\u001b[38;5;124m\"\u001b[39m))\n\u001b[0;32m      4\u001b[0m \u001b[38;5;28mprint\u001b[39m (dividendo,divisor)\n",
      "\u001b[1;31mValueError\u001b[0m: invalid literal for int() with base 10: ''"
     ]
    }
   ],
   "source": [
    "print (\"Truthiness Enteros\")\n",
    "dividendo = int(input(\"Dividendo: \"))\n",
    "divisor = int(input(\"Divisor: \"))\n",
    "print (dividendo,divisor)\n",
    "if divisor: #divisor != 0\n",
    "    print (dividendo / divisor)\n",
    "else:\n",
    "    print (\"No se puede dividir entre cero\")\n",
    "print (\"Fin\")"
   ]
  },
  {
   "cell_type": "code",
   "execution_count": null,
   "metadata": {},
   "outputs": [],
   "source": [
    "print (\"Truthiness Flotantes\")\n",
    "dividendo = float(input(\"Dividendo: \"))\n",
    "divisor = float(input(\"Divisor: \"))\n",
    "print (dividendo,divisor)\n",
    "if divisor: #divisor != 0.0\n",
    "    print (dividendo / divisor)\n",
    "else:\n",
    "    print (\"No se puede dividir entre cero\")\n",
    "print (\"Fin\")"
   ]
  },
  {
   "cell_type": "code",
   "execution_count": null,
   "metadata": {},
   "outputs": [],
   "source": [
    "print (\"Truthiness Cadenas\")\n",
    "cadena = input(\"Cadena: \")\n",
    "print (cadena)\n",
    "if cadena: # len(cadena) != 0 or cadena != \"\" \n",
    "    print (\"La cadena no está vacía\")\n",
    "else:\n",
    "    print (\"La cadena está vacía\")\n",
    "print (\"Fin\")"
   ]
  },
  {
   "cell_type": "code",
   "execution_count": null,
   "metadata": {},
   "outputs": [],
   "source": [
    "print (\"Truthiness Tuplas\")\n",
    "tupla = tuple(input(\"Tupla: \"))\n",
    "print (tupla)\n",
    "if tupla: # len(tupla) != 0 or tupla != ()\n",
    "    print (\"La tupla no está vacía\")\n",
    "else:\n",
    "    print (\"La tupla está vacía\")\n",
    "print (\"Fin\")"
   ]
  },
  {
   "cell_type": "code",
   "execution_count": null,
   "metadata": {},
   "outputs": [],
   "source": [
    "print (\"Truthiness Listas\")\n",
    "lista = list(input(\"Lista: \"))\n",
    "print (lista)\n",
    "if lista: # len(lista) != 0 or lista != []\n",
    "    print (\"La lista no está vacía\")\n",
    "else:\n",
    "    print (\"La lista está vacía\")\n",
    "print (\"Fin\")"
   ]
  },
  {
   "cell_type": "code",
   "execution_count": null,
   "metadata": {},
   "outputs": [],
   "source": [
    "print (\"Truthiness Conjuntos\")\n",
    "conjunto = set(input(\"Conjunto: \"))\n",
    "print (conjunto)\n",
    "if conjunto: # len(conjunto) != 0 or conjunto != set()\n",
    "    print (\"El conjunto no está vacío\")\n",
    "else:\n",
    "    print (\"El conjunto está vacío\")\n",
    "print (\"Fin\")"
   ]
  },
  {
   "cell_type": "code",
   "execution_count": null,
   "metadata": {},
   "outputs": [],
   "source": [
    "print (\"Truthiness Diccionarios\")\n",
    "diccionario = {}\n",
    "clave = input(\"Clave: \")\n",
    "valor = input(\"Valor: \")\n",
    "if clave:\n",
    "    diccionario = {clave:valor}\n",
    "print (diccionario)\n",
    "if diccionario: # diccionario != {}\n",
    "    print (\"El diccionario no está vacío\")\n",
    "else:\n",
    "    print (\"El diccionario está vacío\")\n",
    "print (\"Fin\")"
   ]
  },
  {
   "cell_type": "code",
   "execution_count": null,
   "metadata": {},
   "outputs": [],
   "source": [
    "print (\"Truthiness None\")\n",
    "valor = None\n",
    "print (valor, type(valor))\n",
    "if valor: # valor != None\n",
    "    print (\"El valor no es None\")\n",
    "else:\n",
    "    print (\"El valor es None\")\n",
    "print (\"Fin\")"
   ]
  },
  {
   "cell_type": "code",
   "execution_count": null,
   "metadata": {},
   "outputs": [],
   "source": [
    "entero = int(input(\"Entero: \"))\n",
    "resultado = \"Diferente de 0\" if entero else \"Igual a 0\"\n",
    "print (resultado)\n",
    "flotante = float(input(\"Flotante: \"))\n",
    "resultado = \"Diferente de 0.0\" if flotante else \"Igual a 0.0\"\n",
    "print (resultado)\n",
    "cadena = input(\"Cadena: \")\n",
    "resultado = \"No está vacía\" if cadena else \"Está vacía\"\n",
    "print (resultado)"
   ]
  },
  {
   "cell_type": "code",
   "execution_count": null,
   "metadata": {},
   "outputs": [],
   "source": [
    "temperatura = float(input(\"Temperatura: \"))\n",
    "if temperatura > 30:\n",
    "    print (\"Encender ventilador\")\n",
    "elif temperatura < 20:\n",
    "    print (\"Apagar ventilador\")"
   ]
  },
  {
   "cell_type": "code",
   "execution_count": null,
   "metadata": {},
   "outputs": [],
   "source": [
    "cesta = ['🍎','🍑','🍓','🍉']\n",
    "print (cesta)\n",
    "if '🍎' in cesta:\n",
    "    print (f\"Hay {cesta.count('🍎')} manzanas\")\n",
    "else:\n",
    "    cesta.extend(['🍎','🍎'])\n",
    "    print (cesta)"
   ]
  },
  {
   "cell_type": "code",
   "execution_count": null,
   "metadata": {},
   "outputs": [],
   "source": [
    "cesta = ['🍑','🍓','🍉']\n",
    "print (cesta)\n",
    "resultado = f\"Hay {cesta.count('🍎')} manzanas\" if '🍎' in cesta else cesta.extend(['🍎','🍎'])\n",
    "print (resultado)\n",
    "print (cesta)"
   ]
  },
  {
   "cell_type": "code",
   "execution_count": null,
   "metadata": {},
   "outputs": [],
   "source": [
    "animal = {'especie':'🐶', 'nombre': 'Firulais', 'mamifero': True}\n",
    "print (animal)\n",
    "if animal.get('mamifero'): # animal['mamifero']\n",
    "    print (\"Es un mamífero\")\n",
    "else:\n",
    "    print (\"No es un mamífero\")"
   ]
  },
  {
   "cell_type": "code",
   "execution_count": null,
   "metadata": {},
   "outputs": [],
   "source": [
    "conjunto_1 = {'⚽','🏀','🏐'}\n",
    "conjunto_2 = {'🏈','🏉','🏓'}\n",
    "print (conjunto_1, conjunto_2)\n",
    "if conjunto_1.isdisjoint(conjunto_2): # len(conjunto_1.intersection(conjunto_2)) == 0\n",
    "    conjunto_1.update(conjunto_2)\n",
    "    print (conjunto_1)\n",
    "else:\n",
    "    print (\"Tienen elementos en común\")\n",
    "    print (conjunto_1.intersection(conjunto_2))"
   ]
  },
  {
   "cell_type": "code",
   "execution_count": null,
   "metadata": {},
   "outputs": [],
   "source": [
    "correo = input(\"Correo: \")\n",
    "if \"@\" in correo and \".\" in correo and correo.count(\"@\") == 1:\n",
    "    if correo.find(\"@\") < correo.rfind(\".\") and correo.find(\"@\") > 0 and correo.rfind(\".\") < len(correo) - 1:\n",
    "        if correo.rfind(\".\") - correo.find(\"@\") > 1:\n",
    "            if correo.find(\".\") - correo.find(\"@\") > 1:\n",
    "                print (\"El correo es válido\")\n",
    "            else:\n",
    "                print (\"El correo no es válido\")\n",
    "        else:\n",
    "            print (\"El correo no es válido\")\n",
    "    else:\n",
    "        print (\"El correo no es válido\")\n",
    "else:\n",
    "    print (\"El correo no es válido\")"
   ]
  },
  {
   "cell_type": "code",
   "execution_count": null,
   "metadata": {},
   "outputs": [],
   "source": [
    "correo = input(\"Correo: \")\n",
    "if \"@\" not in correo or \".\" not in correo or correo.count(\"@\") != 1:\n",
    "    print(\"El correo no es válido\")\n",
    "elif correo.find(\"@\") >= correo.rfind(\".\") or correo.find(\"@\") == 0 or correo.rfind(\".\") == len(correo) - 1:\n",
    "    print(\"El correo no es válido\")\n",
    "elif correo.rfind(\".\") - correo.find(\"@\") <= 1:\n",
    "    print(\"El correo no es válido\")\n",
    "elif correo.find(\".\") - correo.find(\"@\") == 1:\n",
    "    print(\"El correo no es válido\")\n",
    "else:\n",
    "    print(\"El correo es válido\")"
   ]
  }
 ],
 "metadata": {
  "kernelspec": {
   "display_name": "Python 3",
   "language": "python",
   "name": "python3"
  },
  "language_info": {
   "codemirror_mode": {
    "name": "ipython",
    "version": 3
   },
   "file_extension": ".py",
   "mimetype": "text/x-python",
   "name": "python",
   "nbconvert_exporter": "python",
   "pygments_lexer": "ipython3",
   "version": "3.12.3"
  }
 },
 "nbformat": 4,
 "nbformat_minor": 2
}
