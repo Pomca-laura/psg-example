{
 "cells": [
  {
   "cell_type": "markdown",
   "metadata": {},
   "source": [
    "# Juego de Tic Tac Toe (Tres en Raya)\n",
    "\n",
    "Este es un juego clásico en el que dos jugadores compiten para completar una línea horizontal, vertical o diagonal con sus fichas."
   ]
  },
  {
   "cell_type": "markdown",
   "metadata": {},
   "source": [
    "## Reglas del Juego\n",
    "\n",
    "1. El tablero es una cuadrícula 3x3.\n",
    "2. Los jugadores alternan turnos para colocar sus fichas (X o O) en el tablero.\n",
    "3. El primer jugador que consiga colocar tres de sus fichas en línea horizontal, vertical o diagonal gana.\n",
    "4. Si todas las casillas del tablero están llenas y no hay ganador, se considera empate."
   ]
  },
  {
   "cell_type": "code",
   "execution_count": 2,
   "metadata": {},
   "outputs": [
    {
     "name": "stdout",
     "output_type": "stream",
     "text": [
      "_ | _ | _\n",
      "---------\n",
      "_ | _ | _\n",
      "---------\n",
      "_ | _ | _\n",
      "---------\n"
     ]
    }
   ],
   "source": [
    "## Diseño del Tablero\n",
    "\n",
    "def print_tablero(tablero):\n",
    "    for fila in tablero:\n",
    "        print(\" | \".join(fila))\n",
    "        print(\"-\" * 9)\n",
    "\n",
    "tablero = [\n",
    "    [\"_\", \"_\", \"_\"],\n",
    "    [\"_\", \"_\", \"_\"],\n",
    "    [\"_\", \"_\", \"_\"]\n",
    "]\n",
    "\n",
    "print_tablero(tablero)"
   ]
  },
  {
   "cell_type": "markdown",
   "metadata": {},
   "source": [
    "## Descripción de las Piezas\n",
    "\n",
    "X: Representa al primer jugador.\n",
    "\n",
    "O: Representa al segundo jugador."
   ]
  },
  {
   "cell_type": "code",
   "execution_count": 3,
   "metadata": {},
   "outputs": [
    {
     "name": "stdout",
     "output_type": "stream",
     "text": [
      "X\n",
      "O\n"
     ]
    }
   ],
   "source": [
    "## Diseño de las piezaS\n",
    "\n",
    "def print_pieza_X():\n",
    "    print(\"X\")\n",
    "\n",
    "def print_pieza_O():\n",
    "    print(\"O\")\n",
    "\n",
    "print_pieza_X()\n",
    "print_pieza_O()\n"
   ]
  }
 ],
 "metadata": {
  "kernelspec": {
   "display_name": "Python 3",
   "language": "python",
   "name": "python3"
  },
  "language_info": {
   "codemirror_mode": {
    "name": "ipython",
    "version": 3
   },
   "file_extension": ".py",
   "mimetype": "text/x-python",
   "name": "python",
   "nbconvert_exporter": "python",
   "pygments_lexer": "ipython3",
   "version": "3.12.3"
  }
 },
 "nbformat": 4,
 "nbformat_minor": 2
}
